{
 "cells": [
  {
   "cell_type": "code",
   "execution_count": 2,
   "id": "e2351201-0d81-471b-8957-4d8d499e11ec",
   "metadata": {},
   "outputs": [],
   "source": [
    "# Import necessary libraries\n",
    "import os\n",
    "import pandas as pd"
   ]
  },
  {
   "cell_type": "code",
   "execution_count": 4,
   "id": "4d0bd4af-a09f-48c7-9bce-9df20c037097",
   "metadata": {},
   "outputs": [
    {
     "name": "stdout",
     "output_type": "stream",
     "text": [
      "Current working directory: /Users/buboyencarnacion\n"
     ]
    }
   ],
   "source": [
    "# Get the current working directory\n",
    "working_directory = os.getcwd()\n",
    "print(f\"Current working directory: {working_directory}\")"
   ]
  },
  {
   "cell_type": "code",
   "execution_count": 10,
   "id": "9d3a9642-8e3e-4746-bc3c-57b6f4a0a649",
   "metadata": {},
   "outputs": [],
   "source": [
    "# Load the transactions data\n",
    "transactions_data_path = os.path.join(working_directory, 'transactions_data.csv')\n",
    "transactions_data = pd.read_csv(transactions_data_path)"
   ]
  },
  {
   "cell_type": "code",
   "execution_count": 12,
   "id": "ad223316-474e-418d-bac4-c802179c52f6",
   "metadata": {},
   "outputs": [],
   "source": [
    "# Exploratory Data Analysis (EDA) for Missing Values and Data Types\n",
    "transactions_missing = transactions_data.isnull().sum()\n",
    "transactions_data_types = transactions_data.dtypes"
   ]
  },
  {
   "cell_type": "code",
   "execution_count": 14,
   "id": "ff5486c3-d4c4-4996-b326-39db8bbe07bc",
   "metadata": {},
   "outputs": [],
   "source": [
    "# Handle missing values in Transactions Data\n",
    "transactions_data['Product_Price'] = transactions_data['Product_Price'].fillna(transactions_data['Product_Price'].median())\n",
    "transactions_data['Total_Cost'] = transactions_data['Total_Cost'].fillna(transactions_data['Total_Cost'].median())"
   ]
  },
  {
   "cell_type": "code",
   "execution_count": 16,
   "id": "6abe2f31-8613-424b-ab65-0fa0dff10b72",
   "metadata": {},
   "outputs": [],
   "source": [
    "# Convert 'Transaction_Date' to datetime format\n",
    "transactions_data['Transaction_Date'] = pd.to_datetime(transactions_data['Transaction_Date'], errors='coerce')"
   ]
  },
  {
   "cell_type": "code",
   "execution_count": 18,
   "id": "bdc9faa5-c4ea-4fa3-b3c1-852a5f741fc0",
   "metadata": {},
   "outputs": [],
   "source": [
    "# Feature Engineering\n",
    "# Recency (time since last transaction)\n",
    "transactions_data['Recency'] = (transactions_data['Transaction_Date'].max() - transactions_data['Transaction_Date']).dt.days"
   ]
  },
  {
   "cell_type": "code",
   "execution_count": 20,
   "id": "1f0af411-27c9-48ce-863c-b4b89cfd39fa",
   "metadata": {},
   "outputs": [],
   "source": [
    "# Purchase Frequency (number of transactions per customer)\n",
    "purchase_frequency = transactions_data.groupby('Company_ID')['Transaction_ID'].count().reset_index()\n",
    "purchase_frequency.columns = ['Company_ID', 'Purchase_Frequency']\n",
    "transactions_data = transactions_data.merge(purchase_frequency, on='Company_ID', how='left')"
   ]
  },
  {
   "cell_type": "code",
   "execution_count": 22,
   "id": "51cdd83f-270c-4c2b-9c93-8cbb4ab17a19",
   "metadata": {},
   "outputs": [],
   "source": [
    "# Total Spending per customer\n",
    "total_spending = transactions_data.groupby('Company_ID')['Total_Cost'].sum().reset_index()\n",
    "total_spending.columns = ['Company_ID', 'Total_Spending']\n",
    "transactions_data = transactions_data.merge(total_spending, on='Company_ID', how='left')"
   ]
  },
  {
   "cell_type": "code",
   "execution_count": 24,
   "id": "0e4f7e8f-6ab4-4833-917f-633109446402",
   "metadata": {},
   "outputs": [],
   "source": [
    "# Save the cleaned dataset\n",
    "cleaned_transactions_data_path = os.path.join(working_directory, 'updated_transactions_data.csv')\n",
    "transactions_data.to_csv(cleaned_transactions_data_path, index=False)"
   ]
  },
  {
   "cell_type": "code",
   "execution_count": 26,
   "id": "edfa4784-ac60-47fe-bc01-3e7f5d6dc01d",
   "metadata": {},
   "outputs": [
    {
     "name": "stdout",
     "output_type": "stream",
     "text": [
      "Transactions data preprocessing and feature engineering completed successfully.\n"
     ]
    }
   ],
   "source": [
    "print(\"Transactions data preprocessing and feature engineering completed successfully.\")"
   ]
  },
  {
   "cell_type": "code",
   "execution_count": null,
   "id": "b2f5045c-88f1-4643-8bb8-8f1578f5ffa1",
   "metadata": {},
   "outputs": [],
   "source": []
  }
 ],
 "metadata": {
  "kernelspec": {
   "display_name": "Python [conda env:base] *",
   "language": "python",
   "name": "conda-base-py"
  },
  "language_info": {
   "codemirror_mode": {
    "name": "ipython",
    "version": 3
   },
   "file_extension": ".py",
   "mimetype": "text/x-python",
   "name": "python",
   "nbconvert_exporter": "python",
   "pygments_lexer": "ipython3",
   "version": "3.12.7"
  }
 },
 "nbformat": 4,
 "nbformat_minor": 5
}
