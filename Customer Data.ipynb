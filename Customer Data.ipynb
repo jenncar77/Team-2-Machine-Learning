{
 "cells": [
  {
   "cell_type": "code",
   "execution_count": 2,
   "id": "92f05d50-1036-4364-b348-d7612335dd34",
   "metadata": {},
   "outputs": [],
   "source": [
    "# Import necessary libraries\n",
    "import os\n",
    "import pandas as pd"
   ]
  },
  {
   "cell_type": "code",
   "execution_count": 4,
   "id": "0c7bcca4-2b53-4d17-8066-b1cfbebd1db8",
   "metadata": {},
   "outputs": [
    {
     "name": "stdout",
     "output_type": "stream",
     "text": [
      "Current working directory: /Users/buboyencarnacion\n"
     ]
    }
   ],
   "source": [
    "# Get the current working directory\n",
    "working_directory = os.getcwd()\n",
    "print(f\"Current working directory: {working_directory}\")"
   ]
  },
  {
   "cell_type": "code",
   "execution_count": 6,
   "id": "345a7c0b-c075-4347-b1d2-0507b1a9bbd7",
   "metadata": {},
   "outputs": [],
   "source": [
    "# Load the dataset\n",
    "customers_data_path = os.path.join(working_directory, 'customers_data.csv')\n",
    "customers_data = pd.read_csv(customers_data_path)"
   ]
  },
  {
   "cell_type": "code",
   "execution_count": 8,
   "id": "0b626a37-4313-41f6-91eb-bea1f37635c8",
   "metadata": {},
   "outputs": [],
   "source": [
    "# Exploratory Data Analysis (EDA) for Missing Values and Data Types\n",
    "customers_missing = customers_data.isnull().sum()\n",
    "customers_data_types = customers_data.dtypes"
   ]
  },
  {
   "cell_type": "code",
   "execution_count": 10,
   "id": "1595de91-db95-4575-9e9a-4cea7c1fcefe",
   "metadata": {},
   "outputs": [],
   "source": [
    "# Handle missing values in Customer Data\n",
    "customers_data['Company_Profit'] = customers_data['Company_Profit'].fillna(customers_data['Company_Profit'].median())\n",
    "customers_data['Company_ID'] = customers_data['Company_ID'].fillna('Unknown')"
   ]
  },
  {
   "cell_type": "code",
   "execution_count": 12,
   "id": "1d79e0af-e3d7-48c0-8fef-49949687b998",
   "metadata": {},
   "outputs": [],
   "source": [
    "# Correct data types if necessary (example provided)"
   ]
  },
  {
   "cell_type": "code",
   "execution_count": 14,
   "id": "c109cbcc-0326-4529-b39b-2d80dd9a1d44",
   "metadata": {},
   "outputs": [],
   "source": [
    "# Assuming 'Company_Profit' should be numeric and 'Transaction_Date' should be datetime"
   ]
  },
  {
   "cell_type": "code",
   "execution_count": 16,
   "id": "771aaa27-6f12-4aa4-a921-8917a6433380",
   "metadata": {},
   "outputs": [],
   "source": [
    "# customers_data['Company_Profit'] = pd.to_numeric(customers_data['Company_Profit'], errors='coerce')"
   ]
  },
  {
   "cell_type": "code",
   "execution_count": 18,
   "id": "191786d5-c212-4914-98c2-7111f343027b",
   "metadata": {},
   "outputs": [],
   "source": [
    "# customers_data['Transaction_Date'] = pd.to_datetime(customers_data['Transaction_Date'], errors='coerce')"
   ]
  },
  {
   "cell_type": "code",
   "execution_count": 20,
   "id": "7e109420-6088-4e0a-810d-48e435eb4c12",
   "metadata": {},
   "outputs": [],
   "source": [
    "# Feature Engineering\n",
    "profit_thresholds = [0, 50000, 100000, float('inf')]\n",
    "profit_labels = ['Low', 'Medium', 'High']\n",
    "customers_data['Profitability_Category'] = pd.cut(customers_data['Company_Profit'], bins=profit_thresholds, labels=profit_labels)"
   ]
  },
  {
   "cell_type": "code",
   "execution_count": 22,
   "id": "9fae5c49-1f6c-430c-ad1c-2fecd69fe7ac",
   "metadata": {},
   "outputs": [],
   "source": [
    "# Extract Region from 'Address'\n",
    "customers_data['Region'] = customers_data['Address'].apply(lambda x: x.split(',')[1] if isinstance(x, str) else 'Unknown')"
   ]
  },
  {
   "cell_type": "code",
   "execution_count": 24,
   "id": "56a02270-c52d-4ee2-a392-5d5859adbcdd",
   "metadata": {},
   "outputs": [],
   "source": [
    "# Save the cleaned dataset\n",
    "cleaned_data_path = os.path.join(working_directory, 'updated_customers_data.csv')\n",
    "customers_data.to_csv(cleaned_data_path, index=False)"
   ]
  },
  {
   "cell_type": "code",
   "execution_count": 26,
   "id": "a6130cd6-525f-411d-9a11-9842992c8823",
   "metadata": {},
   "outputs": [
    {
     "name": "stdout",
     "output_type": "stream",
     "text": [
      "Data preprocessing and feature engineering completed successfully.\n"
     ]
    }
   ],
   "source": [
    "print(\"Data preprocessing and feature engineering completed successfully.\")"
   ]
  },
  {
   "cell_type": "code",
   "execution_count": null,
   "id": "8c6373a1-08a5-4ad2-8cd5-eec24198b016",
   "metadata": {},
   "outputs": [],
   "source": []
  }
 ],
 "metadata": {
  "kernelspec": {
   "display_name": "Python [conda env:base] *",
   "language": "python",
   "name": "conda-base-py"
  },
  "language_info": {
   "codemirror_mode": {
    "name": "ipython",
    "version": 3
   },
   "file_extension": ".py",
   "mimetype": "text/x-python",
   "name": "python",
   "nbconvert_exporter": "python",
   "pygments_lexer": "ipython3",
   "version": "3.12.7"
  }
 },
 "nbformat": 4,
 "nbformat_minor": 5
}
