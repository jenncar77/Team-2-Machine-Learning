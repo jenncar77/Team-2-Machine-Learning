{
 "cells": [
  {
   "cell_type": "code",
   "execution_count": 2,
   "id": "112fc0b6-6a8c-4f49-b7bc-567a6ab3fa35",
   "metadata": {},
   "outputs": [],
   "source": [
    "import os\n",
    "import pandas as pd"
   ]
  },
  {
   "cell_type": "code",
   "execution_count": 4,
   "id": "73121033-9ea3-4b91-8c33-4082c6153ab2",
   "metadata": {},
   "outputs": [
    {
     "name": "stdout",
     "output_type": "stream",
     "text": [
      "Current working directory: /Users/buboyencarnacion\n"
     ]
    }
   ],
   "source": [
    "# Get the current working directory\n",
    "working_directory = os.getcwd()\n",
    "print(f\"Current working directory: {working_directory}\")"
   ]
  },
  {
   "cell_type": "code",
   "execution_count": 6,
   "id": "eb012083-7a34-4072-a4f4-8f9fa6368af2",
   "metadata": {},
   "outputs": [],
   "source": [
    "# Load the dataset\n",
    "products_data_path = os.path.join(working_directory, 'products_data.csv')\n",
    "products_data = pd.read_csv(products_data_path)"
   ]
  },
  {
   "cell_type": "code",
   "execution_count": 8,
   "id": "10a98e0a-5b99-4490-bc38-81185ac4ec74",
   "metadata": {},
   "outputs": [],
   "source": [
    "# Check for missing values\n",
    "products_missing = products_data.isnull().sum()"
   ]
  },
  {
   "cell_type": "code",
   "execution_count": 10,
   "id": "85f38cfd-79ee-4f62-9730-542922bb7abf",
   "metadata": {},
   "outputs": [],
   "source": [
    "# Check data types\n",
    "products_data_types = products_data.dtypes"
   ]
  },
  {
   "cell_type": "code",
   "execution_count": 12,
   "id": "d7861d43-9fb0-48cf-a56d-c329458bc065",
   "metadata": {},
   "outputs": [],
   "source": [
    "# Handle missing 'Product_ID' in Products Data\n",
    "products_data['Product_ID'] = products_data['Product_ID'].fillna('Unknown')"
   ]
  },
  {
   "cell_type": "code",
   "execution_count": 14,
   "id": "c2f1cf72-9601-467e-8ba4-dcedeabd1051",
   "metadata": {},
   "outputs": [],
   "source": [
    "# Clean 'Product_Price' and convert to numeric\n",
    "products_data['Product_Price'] = products_data['Product_Price'].replace({'\\\\?': '', ',': ''}, regex=True)\n",
    "products_data['Product_Price'] = pd.to_numeric(products_data['Product_Price'], errors='coerce')"
   ]
  },
  {
   "cell_type": "code",
   "execution_count": 16,
   "id": "f7472c4e-4309-4f3a-b759-2742a7efb7bf",
   "metadata": {},
   "outputs": [],
   "source": [
    "# Price Range based on Product_Price\n",
    "price_thresholds = [0, 50000, 100000, float('inf')]\n",
    "price_labels = ['Low', 'Medium', 'High']\n",
    "products_data['Price_Range'] = pd.cut(products_data['Product_Price'], bins=price_thresholds, labels=price_labels)"
   ]
  },
  {
   "cell_type": "code",
   "execution_count": 18,
   "id": "93e8425c-a15a-4e0d-8220-e131eeeac0ee",
   "metadata": {},
   "outputs": [
    {
     "name": "stdout",
     "output_type": "stream",
     "text": [
      "Products data preprocessing and feature engineering completed successfully.\n"
     ]
    }
   ],
   "source": [
    "# Save the cleaned dataset\n",
    "cleaned_products_data_path = os.path.join(working_directory, 'updated_products_data.csv')\n",
    "products_data.to_csv(cleaned_products_data_path, index=False)\n",
    "\n",
    "print(\"Products data preprocessing and feature engineering completed successfully.\")"
   ]
  },
  {
   "cell_type": "code",
   "execution_count": null,
   "id": "db285f4a-429f-44db-a924-8563672d4dda",
   "metadata": {},
   "outputs": [],
   "source": []
  }
 ],
 "metadata": {
  "kernelspec": {
   "display_name": "Python [conda env:base] *",
   "language": "python",
   "name": "conda-base-py"
  },
  "language_info": {
   "codemirror_mode": {
    "name": "ipython",
    "version": 3
   },
   "file_extension": ".py",
   "mimetype": "text/x-python",
   "name": "python",
   "nbconvert_exporter": "python",
   "pygments_lexer": "ipython3",
   "version": "3.12.7"
  }
 },
 "nbformat": 4,
 "nbformat_minor": 5
}
